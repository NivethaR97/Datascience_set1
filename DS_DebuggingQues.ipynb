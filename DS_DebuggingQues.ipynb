{
 "cells": [
  {
   "cell_type": "code",
   "execution_count": null,
   "id": "e8c475cb-56b9-4a15-a16f-f505fe0505dd",
   "metadata": {},
   "outputs": [],
   "source": [
    "import pandas as pd  \n",
    "\n",
    "data = {'Name': ['Alice', 'Bob', 'Charlie'], \n",
    "        'Age': [25, 30, 'Thirty-Five'],  \n",
    "        'Gender': ['F', 'M', 'M']}  \n",
    "\n",
    "df = pd.DataFrame(data)\n",
    "\n",
    "average_age = df['Age'].mean()\n",
    "\n",
    "print(f\"Average Age: {average_age}\")\n"
   ]
  },
  {
   "cell_type": "code",
   "execution_count": null,
   "id": "7aa49932-e2fe-47cc-beca-06db74a5acff",
   "metadata": {},
   "outputs": [],
   "source": [
    "import numpy as np\n",
    "\n",
    "data = [1, 2, 3, 4, 5, 6, 7, 8, 9, 10]\n",
    "\n",
    "q1, q3 = np.percentile(data, 25, 75)\n",
    "\n",
    "q1, q3"
   ]
  },
  {
   "cell_type": "code",
   "execution_count": null,
   "id": "069ea87a-a971-4b8d-8869-d9782e16b235",
   "metadata": {},
   "outputs": [],
   "source": [
    "import numpy as np\n",
    "from scipy.stats import zscore\n",
    "\n",
    "data = [1, 2, 3, 100, 5, 6, 7, 8, 9]\n",
    "\n",
    "outliers = [i for i in data if zscore(data) > 2]\n"
   ]
  },
  {
   "cell_type": "code",
   "execution_count": null,
   "id": "54f69e53-e308-4703-9eaa-9fd04077173a",
   "metadata": {},
   "outputs": [],
   "source": [
    "import numpy as np\n",
    "from scipy.stats import zscore\n",
    "\n",
    "data = [1, 2, 3, 100, 5, 6, 7, 8, 9]\n",
    "median = np.median(data)\n",
    "\n",
    "data = [median if abs(zscore(x)) > 2 else x for x in data]\n"
   ]
  },
  {
   "cell_type": "code",
   "execution_count": null,
   "id": "aa83855c-039a-4e43-91f9-a8e0c0505936",
   "metadata": {},
   "outputs": [],
   "source": [
    "from scipy.stats import norm\n",
    "\n",
    "pdf_val = norm.pdf(2, 0, -1)\n",
    "pdf_val\n"
   ]
  },
  {
   "cell_type": "code",
   "execution_count": null,
   "id": "5aeb4991-cd9a-4926-8cbd-2e42e2771dc7",
   "metadata": {},
   "outputs": [],
   "source": [
    "import seaborn as sns\n",
    "import pandas as pd\n",
    "\n",
    "df = pd.DataFrame({'A': [1, 2, 3], 'B': [4, 5, 6]})\n",
    "sns.pairplot(df, hue='C')\n"
   ]
  },
  {
   "cell_type": "code",
   "execution_count": null,
   "id": "6a04f0f5-e775-49bb-8c3d-0b205b9a3406",
   "metadata": {},
   "outputs": [],
   "source": [
    "import numpy as np\n",
    "\n",
    "x = [1, 2, 3, 4]\n",
    "y = [2, 4, 6, 8]\n",
    "\n",
    "cov_matrix = np.cov()\n"
   ]
  },
  {
   "cell_type": "code",
   "execution_count": null,
   "id": "a1e8b82e-7a16-4d9e-a773-db9552ab992c",
   "metadata": {},
   "outputs": [],
   "source": [
    "import numpy as np\n",
    "\n",
    "data = [2, 4, 6, 8, 10]\n",
    "\n",
    "mean_value = mean(data)\n",
    "print(f\"Mean: {mean_value}\")\n"
   ]
  },
  {
   "cell_type": "code",
   "execution_count": null,
   "id": "b64dfbf5-a897-447f-a319-778c5b4268f3",
   "metadata": {},
   "outputs": [],
   "source": [
    "import pandas as pd\n",
    "import numpy as np\n",
    "\n",
    "data = {'A': [1, 2, np.nan, 4], 'B': [np.nan, 5, 6, np.nan]}\n",
    "df = pd.DataFrame(data)\n",
    "\n",
    "df.replace(np.nan, 0, inplace=False)  \n",
    "print(df)"
   ]
  },
  {
   "cell_type": "code",
   "execution_count": null,
   "id": "5aacc208-8ab3-4850-a1bb-3495e32a0472",
   "metadata": {},
   "outputs": [],
   "source": [
    "import numpy as np\n",
    "import pandas as pd\n",
    "\n",
    "data = {'A': [1, 2, 3, 4], 'B': [5, 6, 7, 8]}\n",
    "df = pd.DataFrame(data)\n",
    "\n",
    "correlation = np.corrcoef()\n",
    "print(\"Correlation:\\n\", correlation)\n"
   ]
  }
 ],
 "metadata": {
  "kernelspec": {
   "display_name": "Python 3 (ipykernel)",
   "language": "python",
   "name": "python3"
  },
  "language_info": {
   "codemirror_mode": {
    "name": "ipython",
    "version": 3
   },
   "file_extension": ".py",
   "mimetype": "text/x-python",
   "name": "python",
   "nbconvert_exporter": "python",
   "pygments_lexer": "ipython3",
   "version": "3.12.4"
  }
 },
 "nbformat": 4,
 "nbformat_minor": 5
}
