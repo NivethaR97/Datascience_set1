{
 "cells": [
  {
   "cell_type": "markdown",
   "id": "f4ab311e-4869-4096-9735-b3820a9a6f76",
   "metadata": {},
   "source": [
    "A retail store wants to identify customers who make frequent purchases. Given the dataset below, write a code to:\n",
    "1.\tGroup customers by their IDs.\n",
    "2.\tCalculate the total number of purchases per customer.\n",
    "3.\tIdentify the top 3 frequent customers.\n",
    "Dataset:\n",
    "data = {'Customer_ID': [101, 102, 103, 101, 104, 102, 101, 105, 102, 103],\n",
    "        'Purchase_Amount': [200, 150, 180, 220, 300, 200, 100, 400, 250, 300]}\n"
   ]
  },
  {
   "cell_type": "code",
   "execution_count": null,
   "id": "922c756d-155e-4473-a1c2-cbcc99cc4f85",
   "metadata": {},
   "outputs": [],
   "source": [
    "import pandas as pd\n",
    "data = {'Customer_ID': [101, 102, 103, 101, 104, 102, 101, 105, 102, 103],\n",
    "        'Purchase_Amount': [200, 150, 180, 220, 300, 200, 100, 400, 250, 300]}\n",
    "df=pd.DataFrame(data)\n",
    "total_purchase=df.groupby(\"Customer_ID\")[\"Purchase_Amount\"].sum().reset_index()\n",
    "print(f\"Total Purchases per Customer:\\n {total_purchase}\")\n",
    "top=total_purchase.sort_values(\"Purchase_Amount\",ascending=False).head(3)\n",
    "print(f\"Top 3 Frequent Customers:\\n {top}\")"
   ]
  },
  {
   "cell_type": "markdown",
   "id": "ae9ba710-dce9-4e6f-83fe-db2a4060cdbc",
   "metadata": {},
   "source": [
    "A company tracks the daily sales of a product over a month. You are tasked with identifying any abnormal sales data using the IQR (Interquartile Range) method.\n",
    "Dataset (Daily Sales in Units):\n",
    "\n",
    "data = {'Day': range(1, 31),\n",
    "        'Sales': [25, 30, 28, 45, 55, 60, 22, 80, 95, 120,\n",
    "                  33, 29, 27, 35, 40, 50, 85, 110, 105, 92,\n",
    "                  30, 34, 31, 33, 36, 42, 44, 48, 90, 200]}\n",
    "\n",
    "Tasks:\n",
    "1. Calculate the Q1 (25th percentile) and Q3 (75th percentile).\n",
    "2. Determine the IQR.\n",
    "3. Identify the Lower Bound and Upper Bound.\n",
    "4. Detect and display the outliers.\n",
    "5. Replace the Outliers with the Median Value.\n",
    "Expected Output:\n",
    "Q1: 31.5, Q3: 83.75, IQR: 52.25\n",
    "Lower Bound: -46.875, Upper Bound: 162.125\n",
    "Outliers Detected:\n",
    "    Day  Sales\n",
    "29   30    200\n",
    "Data After Replacing Outliers with Median:\n",
    "    Day  Sales\n",
    "0     1   25.0\n",
    "1     2   30.0\n",
    "2     3   28.0\n",
    "3     4   45.0\n",
    "4     5   55.0\n",
    "5     6   60.0\n",
    "6     7   22.0\n",
    "7     8   80.0\n",
    "8     9   95.0\n",
    "9    10  120.0\n",
    "10   11   33.0\n",
    "11   12   29.0\n",
    "12   13   27.0\n",
    "13   14   35.0\n",
    "14   15   40.0\n",
    "15   16   50.0\n",
    "16   17   85.0\n",
    "17   18  110.0\n",
    "18   19  105.0\n",
    "19   20   92.0\n",
    "20   21   30.0\n",
    "21   22   34.0\n",
    "22   23   31.0\n",
    "23   24   33.0\n",
    "24   25   36.0\n",
    "25   26   42.0\n",
    "26   27   44.0\n",
    "27   28   48.0\n",
    "28   29   90.0\n",
    "29   30   43.0"
   ]
  },
  {
   "cell_type": "code",
   "execution_count": null,
   "id": "d13dcbf9-789b-41c1-b931-87de9e8bc1bc",
   "metadata": {},
   "outputs": [],
   "source": [
    "import pandas as pd\n",
    "import numpy as np\n",
    "data = {'Day': range(1, 31),\n",
    "        'Sales': [25, 30, 28, 45, 55, 60, 22, 80, 95, 120,\n",
    "                  33, 29, 27, 35, 40, 50, 85, 110, 105, 92,\n",
    "                  30, 34, 31, 33, 36, 42, 44, 48, 90, 200]}\n",
    "df=pd.DataFrame(data)\n",
    "q1,q3=np.percentile(df['Sales'],[25,75])\n",
    "IQR=q3-q1\n",
    "lower_bound=q1-1.5*IQR\n",
    "upper_bound=q3+1.5*IQR\n",
    "print(f\"Q1:{q1},Q3:{q3},IQR:{IQR}\")\n",
    "print(f\"Lower Bound: {lower_bound},Upper Bound:{upper_bound}\")\n",
    "outliers=df[(df['Sales']<lower_bound) | (df['Sales']>upper_bound)]\n",
    "print(\"Outliers Detected:\\n\",outliers)\n",
    "median_value=df[\"Sales\"].median()\n",
    "df['Sales']=np.where((df['Sales']<lower_bound) | (df['Sales']>upper_bound),median_value,df[\"Sales\"])\n",
    "print(f\"Data After Replacing Outliers with Median\\n {df}\")"
   ]
  },
  {
   "cell_type": "markdown",
   "id": "a004ab5c-0f41-461c-8843-502a3889188f",
   "metadata": {},
   "source": [
    "Question 3:\n",
    " \n",
    "A pharmaceutical company is testing the effectiveness of a new drug to reduce blood pressure. Two groups of patients were selected:\n",
    "Group 1 (Treatment): Received the drug\n",
    "Group 2 (Control): Received a placebo\n",
    "The company wants to check if there is a significant difference in the blood pressure levels between the two groups using an Independent T-Test.\n",
    "Dataset:\n",
    "data = {'Group': ['Treatment']*10 + ['Control']*10,\n",
    "        'Blood_Pressure': [120, 115, 118, 123, 122, 119, 124, 117, 116, 121,\n",
    "                            130, 135, 140, 138, 142, 136, 139, 134, 137, 141]}\n",
    "Tasks:\n",
    "1.\tPerform an Independent T-Test.\n",
    "2.\tState the null and alternative hypotheses.\n",
    "3.\tCalculate the p-value.\n",
    "4.\tConclude whether the drug has a significant effect.\n",
    "Expected Output:\n",
    "T-Statistic: -11.870553692962726\n",
    "P-Value: 6.008066605173374e-10\n",
    "Reject the Null Hypothesis: The drug has a significant effect."
   ]
  },
  {
   "cell_type": "code",
   "execution_count": null,
   "id": "74b41a3b-26d2-4b26-8610-27c251f24341",
   "metadata": {},
   "outputs": [],
   "source": [
    "import pandas as pd\n",
    "data = {'Group': ['Treatment']*10 + ['Control']*10,\n",
    "        'Blood_Pressure': [120, 115, 118, 123, 122, 119, 124, 117, 116, 121,\n",
    "                            130, 135, 140, 138, 142, 136, 139, 134, 137, 141]}\n",
    "df=pd.DataFrame(data)\n",
    "from scipy.stats import ttest_ind\n",
    "treatment=df[df['Group']=='Treatment']['Blood_Pressure']\n",
    "control=df[df['Group']=='Control']['Blood_Pressure']\n",
    "t_stat,p=ttest_ind(treatment,control)\n",
    "print(f\"T-Statistic:{t_stat}\\nP-Value:{p}\")\n",
    "if p<0.05:\n",
    "    print(\"Reject the Null Hypothesis: The drug has a significant effect.\")\n",
    "else:\n",
    "    print(\"Fail to reject the Null Hypothesis: The drug has a no significant effect.\")\n"
   ]
  },
  {
   "cell_type": "code",
   "execution_count": null,
   "id": "4fd6303d-6f81-4d28-9e2e-3dc265202f86",
   "metadata": {},
   "outputs": [],
   "source": [
    "data={\"Region\":[\"North\",\"South\",\"East\",\"West\",\"Central\"],\n",
    "      \"TV_Ad_Budget\":[200,300,400,500,600],\n",
    "      \"Social_Media_Budget\":[150,250,300,450,500],\n",
    "      \"Sales\":[20,35,50,60,80]}\n",
    "df=pd.DataFrame(data)\n",
    "cov_tv=df[[\"TV_Ad_Budget\",\"Sales\"]].cov().iloc[0,1]\n",
    "cov_social=df[[\"Social_Media_Budget\",\"Sales\"]].cov().iloc[0,1]\n",
    "cor_tv=df[[\"TV_Ad_Budget\",\"Sales\"]].corr().iloc[0,1]\n",
    "cor_social=df[[\"Social_Media_Budget\",\"Sales\"]].corr().iloc[0,1]\n",
    "print(f\"Covariance (TV vs Sales):{cov_tv}\")\n",
    "print(f\"Covariance (Social Media vs Sales): {cov_social}\")\n",
    "print(f\"Correlation (TV vs Sales):{cor_tv}\")\n",
    "print(f\"Correlation (Social Media vs Sales):{cor_social}\")\n",
    "if cor_tv > cor_social:\n",
    "    print(\"TV Ads have a stronger impact on Sales.\")\n",
    "else:\n",
    "    print(\"Social Media Ads have a stronger impact on Sales.\")"
   ]
  },
  {
   "cell_type": "code",
   "execution_count": 39,
   "id": "884d230c-3a10-424e-8e21-ffeaa317cae6",
   "metadata": {},
   "outputs": [
    {
     "name": "stdout",
     "output_type": "stream",
     "text": [
      "Mean Delivery Time:65.0625\n",
      "Standard Deviation of Delivery Time:42.159982160156105\n"
     ]
    }
   ],
   "source": [
    "import pandas as pd\n",
    "import numpy as np\n",
    "data=[25, 30, 28, 45, 55, 60, 22, 80, 95, 120, 33, 29, 27, 35, 40, 50, 85, 110, 105, 92, 30, 34, 31, 33, 36, 42, 44, 48, 90, 200, 20, 25, 27, 32, 38, 41, 47, 58, 62, 77, 80, 84, 90, 110, 123, 145, 150, 160]\n",
    "df=pd.DataFrame(data,columns=[\"Delivery_Time\"])\n",
    "print(f\"Mean Delivery Time:{df.mean()[0]}\")\n",
    "print(f\"Standard Deviation of Delivery Time:{df.std()[0]}\")\n",
    "mu=df.mean()[0]\n",
    "si=df.std()[0]"
   ]
  },
  {
   "cell_type": "code",
   "execution_count": 41,
   "id": "becb6c0a-2bf6-4ffb-aba0-8a312689371e",
   "metadata": {},
   "outputs": [
    {
     "data": {
      "image/png": "[encoded data removed]",
      "text/plain": [
       "<Figure size 1000x500 with 1 Axes>"
      ]
     },
     "metadata": {},
     "output_type": "display_data"
    }
   ],
   "source": [
    "from scipy.stats import norm\n",
    "import matplotlib.pyplot as plt\n",
    "x=np.linspace(df[\"Delivery_Time\"].min(),df[\"Delivery_Time\"].max(),100)\n",
    "pdf=norm.pdf(x,mu,si)\n",
    "plt.figure(figsize=(10,5))\n",
    "plt.plot(x,pdf,'r-',label='Normal Distribution(PDF)')\n",
    "plt.xlabel(\"Delivery Time (minutes)\")\n",
    "plt.ylabel(\"Density\")\n",
    "plt.title(\"Probability Density Function (PDF)\")\n",
    "plt.legend()\n",
    "plt.show()"
   ]
  },
  {
   "cell_type": "code",
   "execution_count": 37,
   "id": "74a064ad-0bf3-443b-802d-6f4892b567ab",
   "metadata": {},
   "outputs": [],
   "source": [
    "import warnings\n",
    "warnings.filterwarnings('ignore')"
   ]
  },
  {
   "cell_type": "code",
   "execution_count": null,
   "id": "13b2f164-7178-4f43-814d-a070f6969917",
   "metadata": {},
   "outputs": [],
   "source": []
  }
 ],
 "metadata": {
  "kernelspec": {
   "display_name": "Python [conda env:base] *",
   "language": "python",
   "name": "conda-base-py"
  },
  "language_info": {
   "codemirror_mode": {
    "name": "ipython",
    "version": 3
   },
   "file_extension": ".py",
   "mimetype": "text/x-python",
   "name": "python",
   "nbconvert_exporter": "python",
   "pygments_lexer": "ipython3",
   "version": "3.12.9"
  }
 },
 "nbformat": 4,
 "nbformat_minor": 5
}
